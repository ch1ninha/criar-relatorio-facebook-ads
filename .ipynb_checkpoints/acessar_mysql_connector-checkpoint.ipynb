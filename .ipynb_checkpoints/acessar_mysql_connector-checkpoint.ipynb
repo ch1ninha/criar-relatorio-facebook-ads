{
 "cells": [
  {
   "cell_type": "markdown",
   "id": "b0019a0c-23b3-4f30-8e9f-49b0b2bbc0c5",
   "metadata": {},
   "source": [
    "<h2>Conectando no mysql</h2>"
   ]
  },
  {
   "cell_type": "code",
   "execution_count": null,
   "id": "e6be6029-11ee-4e55-9461-76643c7d00fd",
   "metadata": {},
   "outputs": [],
   "source": [
    "# Pegando a senha para o mysql\n",
    "\n",
    "with open(\"access/password_sql.txt\",\"r\") as f:\n",
    "    _pass_mysql = f.read()"
   ]
  },
  {
   "cell_type": "code",
   "execution_count": null,
   "id": "db71ba26-36ff-4094-b8d4-fdc6a7f8c876",
   "metadata": {},
   "outputs": [],
   "source": [
    "import mysql.connector\n",
    "from mysql.connector import errorcode\n",
    "\n",
    "try:\n",
    "    banco = mysql.connector.connect(\n",
    "        host = \"localhost\",\n",
    "        user = \"root\",\n",
    "        password = _pass_mysql,\n",
    "        database = \"marketing\",\n",
    "        auth_plugin = 'mysql_native_password'\n",
    "    )\n",
    "    \n",
    "except mysql.connector.Error as err:\n",
    "    if err.errno == errorcode.ER_ACCESS_DENIED_ERROR:\n",
    "        print(\"Cheque sua senha ou usuario, identificado um erro em alguma delas!\")\n",
    "    elif err.errno == errorcode.ER_BAD_DB_ERROR:\n",
    "        print(\"\"\"'{}' esse database não foi encontrado, verifique se digitou corretamente.\"\"\".format(banco.database))\n",
    "    else:\n",
    "        print(err)\n",
    "    \n",
    "cursor = banco.cursor()"
   ]
  },
  {
   "cell_type": "markdown",
   "id": "eea9aab9-caa7-41ea-92d8-f523746ad2d1",
   "metadata": {
    "tags": []
   },
   "source": [
    "### Declarando as variaveis para a requisição da **API**"
   ]
  },
  {
   "cell_type": "code",
   "execution_count": null,
   "id": "c72d114e-3eab-4162-b2e0-78c897dc373b",
   "metadata": {},
   "outputs": [],
   "source": [
    "# pegando o token de acesso para o fb\n",
    "with open(\"access/access_facebook.txt\",\"r\") as f:\n",
    "    _data = f.read().split(\"\\n\")\n",
    "    _access_token = str(_data[0].split(\"=\")[1])\n",
    "    _n_ad = str(_data[1].split(\"=\")[1])"
   ]
  },
  {
   "cell_type": "code",
   "execution_count": null,
   "id": "f7e96112-a109-4ccc-a613-69086534e155",
   "metadata": {},
   "outputs": [],
   "source": [
    "# variaveis para instanciar a classe\n",
    "token_acesso = _access_token\n",
    "numero_conta = _n_ad\n",
    "\n",
    "# variaveis para chamar a função do tipo de requisição\n",
    "level_breakdown = \"ad\""
   ]
  },
  {
   "cell_type": "markdown",
   "id": "04c7f99c-7047-4d4a-a324-251a7544d5d2",
   "metadata": {
    "tags": []
   },
   "source": [
    "<h3>Declarando a classe de requisição e bibliotecas necessarias</h3>"
   ]
  },
  {
   "cell_type": "code",
   "execution_count": null,
   "id": "5811a9d5-ef03-45aa-a0f9-e3d0ff0cccf2",
   "metadata": {},
   "outputs": [],
   "source": [
    "import requests\n",
    "import json\n",
    "import time\n",
    "from datetime import date\n",
    "import datetime\n",
    "import csv\n",
    "import pandas as pd\n",
    "import warnings\n",
    "\n",
    "class requisicao:\n",
    "    # inicio o objeto de requisicao pegando as info principais\n",
    "    def __init__(self,n_account,token):\n",
    "        self.n_account = n_account\n",
    "        self.conta_ad = \"act_\" + n_account\n",
    "        self.token = token\n",
    "        self.url = \"https://graph.facebook.com/v12.0/{}/insights\".format(self.conta_ad)\n",
    "        self.limit = '2000'\n",
    "        \n",
    "    def mostrar_req(self):\n",
    "        print(\"----------- mostrar_req() -------------\")\n",
    "        print(\"Nº da conta de anúncio: {}\".format(self.conta_ad))\n",
    "        print(\"URL padrão: {}\".format(self.url))\n",
    "        print(\"----------------------------------------\")\n",
    "\n",
    "    def requisicaoPadrao(self,level,data):\n",
    "        \"\"\"Realiza o resquest a API de marketing do facebook, usando os campos padrões, deixando as ações de lado. Formato data YYYY-MM-DD\"\"\"\n",
    "        fields = \"campaign_name,adset_name,ad_name,spend,impressions,clicks,ad_id\"\n",
    "        time_range = \"{{\\\"since\\\":\\\"{}\\\",\\\"until\\\":\\\"{}\\\"}}\".format(data,data)\n",
    "        parametros = {'time_range':time_range,'level':level,'fields':fields,'limit':self.limit,'access_token':self.token}\n",
    "        r = requests.get(self.url,params=parametros)\n",
    "        return r\n",
    "\n",
    "    def requisicaoActions(self,level,data):\n",
    "        \"\"\"Realiza o resquest a API de marketing do facebook, usando somente o campo de action e ad_id. Formato data YYYY-MM-DD\"\"\"\n",
    "        fields = \"ad_id,actions\"\n",
    "        time_range = \"{{\\\"since\\\":\\\"{}\\\",\\\"until\\\":\\\"{}\\\"}}\".format(data,data)\n",
    "        parametros = {'time_range':time_range,'level':level,'fields':fields,'limit':self.limit,'access_token':self.token}\n",
    "        r = requests.get(self.url,params=parametros)\n",
    "        return r"
   ]
  },
  {
   "cell_type": "markdown",
   "id": "899e94bf-b4ed-4406-bcd1-e051fcb211a8",
   "metadata": {},
   "source": [
    "### Instanciando a classe *requisicao*"
   ]
  },
  {
   "cell_type": "code",
   "execution_count": null,
   "id": "4689f4c7-2e21-47d3-9be8-60d074ccea53",
   "metadata": {},
   "outputs": [],
   "source": [
    "obj_req = requisicao(numero_conta,token_acesso)\n",
    "\n",
    "obj_req.mostrar_req()"
   ]
  },
  {
   "cell_type": "markdown",
   "id": "cf35c34f-8f4d-48e7-bf9b-0e522b38cf3a",
   "metadata": {
    "tags": []
   },
   "source": [
    "### Lendo o banco de dados, checando os dias"
   ]
  },
  {
   "cell_type": "code",
   "execution_count": null,
   "id": "5aded595-86cb-41f1-bc25-c2135ab6f363",
   "metadata": {
    "tags": []
   },
   "outputs": [],
   "source": [
    "# checar os dias PADRAO\n",
    "for ite_dia in range(20,0,-1):\n",
    "    check_dia = date.today() - datetime.timedelta(days=ite_dia)\n",
    "    cursor.execute(\"SELECT * FROM marketing.fb_ads_data_padrao WHERE dia = '{}'\".format(check_dia))\n",
    "    contagem = 0\n",
    "    for i in cursor:\n",
    "        contagem += 1\n",
    "    if contagem > 0:\n",
    "        continue\n",
    "    elif contagem == 0:\n",
    "        call_req = obj_req.requisicaoPadrao(level_breakdown,check_dia)\n",
    "        for campanha in call_req.json()['data']:\n",
    "            #aqui tenho cada ad_id, passar as linhas na tabela\n",
    "            adicionar_linha = (\n",
    "                \"INSERT INTO marketing.fb_ads_data_padrao\"\n",
    "                \"(dia, ad_id, campaign_name, adset_name, ad_name, spend, impressions, clicks)\"\n",
    "                \"VALUES ('{}','{}','{}','{}','{}',{},{},{})\".format(check_dia,campanha['ad_id'],campanha['campaign_name'],campanha['adset_name'],campanha['ad_name'],campanha['spend'],campanha['impressions'],campanha['clicks'])\n",
    "            )\n",
    "            print(\"PADRAO\")\n",
    "            print(adicionar_linha)\n",
    "            print()\n",
    "            cursor.execute(adicionar_linha)\n",
    "            emp_no = cursor.lastrowid\n",
    "            banco.commit()\n",
    "        time.sleep(2)\n",
    "\n",
    "# checar os dias ACTIONS\n",
    "dic_ad_actions = {\n",
    "    \"comment\":0,\n",
    "    \"onsite_conversion.post_save\":0,\n",
    "    \"post_engagement\":0,\n",
    "    \"post_reaction\":0,\n",
    "    \"link_click\":0,\n",
    "    \"landing_page_view\":0,\n",
    "    \"initiate_checkout\":0,\n",
    "    \"view_content\":0,\n",
    "    \"purchase\":0,\n",
    "    \"lead\":0\n",
    "}\n",
    "\n",
    "for ite_dia in range(20,0,-1):\n",
    "    check_dia = date.today() - datetime.timedelta(days=ite_dia)\n",
    "    cursor.execute(\"SELECT * FROM marketing.fb_ads_data_actions WHERE dia = '{}'\".format(check_dia))\n",
    "    contagem = 0\n",
    "    for i in cursor:\n",
    "        contagem += 1\n",
    "    if contagem > 0:\n",
    "        continue\n",
    "    elif contagem == 0:\n",
    "        # fazer a requisição\n",
    "        call_req = obj_req.requisicaoActions(level_breakdown,check_dia)\n",
    "        for usar in call_req.json()['data']:\n",
    "            \n",
    "            #aqui tenho cada ad_id, passar as linhas na tabela\n",
    "            if 'actions' not in usar:\n",
    "                adicionar_linha = (\n",
    "                    \"insert into marketing.fb_ads_data_actions\"\n",
    "                    \"(dia, ad_id, post_comment, post_save, post_engagement, post_reaction, link_click, lp_view, website_checkout, content_view, purchase, leads)\"\n",
    "                    \"values (\\'{}\\',\\'{}\\',{},{},{},{},{},{},{},{},{},{})\".format(check_dia,usar['ad_id'],0,0,0,0,0,0,0,0,0,0)\n",
    "                )\n",
    "                cursor.execute(adicionar_linha)\n",
    "                emp_no = cursor.lastrowid\n",
    "                banco.commit()\n",
    "                continue\n",
    "            for ite_tipo_action in usar['actions']:\n",
    "                if ite_tipo_action['action_type'] in dic_ad_actions:  \n",
    "                    dic_ad_actions[ite_tipo_action['action_type']] = ite_tipo_action['value']\n",
    "                    \n",
    "            adicionar_linha = (\n",
    "                \"insert into marketing.fb_ads_data_actions\"\n",
    "                \"(dia, ad_id, post_comment, post_save, post_engagement, post_reaction, link_click, lp_view, website_checkout, content_view, purchase, leads)\"\n",
    "                \"values (\\'{}\\',\\'{}\\',{},{},{},{},{},{},{},{},{},{})\".format(check_dia,usar['ad_id'],dic_ad_actions['comment'],dic_ad_actions['onsite_conversion.post_save'],dic_ad_actions['post_engagement'],dic_ad_actions['post_reaction'],dic_ad_actions[\"link_click\"],dic_ad_actions['landing_page_view'],dic_ad_actions['initiate_checkout'],dic_ad_actions['view_content'],dic_ad_actions['purchase'],dic_ad_actions['lead'])\n",
    "            )\n",
    "            print(\"ACTIONS\")\n",
    "            print(adicionar_linha)\n",
    "            print()\n",
    "            # limpar o dicionario\n",
    "            for valor_dic in dic_ad_actions:\n",
    "                dic_ad_actions[valor_dic] = 0\n",
    "                \n",
    "            cursor.execute(adicionar_linha)\n",
    "            emp_no = cursor.lastrowid\n",
    "            banco.commit()\n",
    "        time.sleep(2)"
   ]
  },
  {
   "cell_type": "code",
   "execution_count": null,
   "id": "ee41c0ad-3bd2-4566-8288-ef346bd2025d",
   "metadata": {},
   "outputs": [],
   "source": [
    "# finalizando a aplicação, executar quando acabar.\n",
    "cursor.close()\n",
    "banco.close()"
   ]
  },
  {
   "cell_type": "markdown",
   "id": "7fcfa4e5-6130-4838-b71d-7acdc3591e01",
   "metadata": {},
   "source": [
    "<h3>Criando o database</h3>"
   ]
  },
  {
   "cell_type": "code",
   "execution_count": null,
   "id": "02f7d903-36e7-4989-bd42-4ab2368ac9dd",
   "metadata": {},
   "outputs": [],
   "source": [
    "# criando listas com as linhas que vamos executar no MySQL\n",
    "\n",
    "database_name = \"marketing\"\n",
    "\n",
    "database_linhas_iniciais = [f\"create database {database_name}\"]\n",
    "\n",
    "def create_database(cursor):\n",
    "    \"\"\"Executar o cursor.execute() com as linhas de comando iniciais para criação de nosso database\"\"\"\n",
    "    try:\n",
    "        for database_linha in database_linhas_iniciais:\n",
    "            cursor.execute(database_linha)\n",
    "    except mysql.connector.Error as err:\n",
    "        print(\"\"\"Não foi possivel criar o database '{database_name}': {err}\"\"\".format(database_name,err))\n",
    "        exit(1)\n",
    "        # (0) --> significa uma saida limpa, sem um erro que causou a saida.\n",
    "        # (1) --> significa que houve um erro, por causa do erro a aplicação vai encerrar.\n",
    "\n",
    "try:\n",
    "    cursor.execute(\"USE {}\".format(database_name))\n",
    "except mysql.connector.Error as err:\n",
    "    print(\"\"\"Database '{}' não foi encontrado\"\"\".format(database_name))\n",
    "    if err.errno == errorcode.ER_BAD_DB_ERROR:\n",
    "        create_database(cursor)\n",
    "        print(\"\"\"Database '{}' foi criado com sucesso\"\"\".format(database_name))\n",
    "        cursor.database = database_name\n",
    "    else:\n",
    "        print(err)\n",
    "        exit(1)"
   ]
  },
  {
   "cell_type": "markdown",
   "id": "f791494d-49f9-435e-8fd8-e746e26690d2",
   "metadata": {},
   "source": [
    "<h3>Rodando os comandos para criação da tabela dentro do database</h3>"
   ]
  },
  {
   "cell_type": "code",
   "execution_count": null,
   "id": "2345af00-4fb2-49ed-a8a7-e86bfaaa5d00",
   "metadata": {},
   "outputs": [],
   "source": [
    "for table in tabelas:\n",
    "    table_description = tabelas[table]\n",
    "    try:\n",
    "        print(\"\"\"Criando tabela no database: '{}' |  \"\"\".format(database_name), end = \"\")\n",
    "        cursor.execute(table_description)\n",
    "    except mysql.connector.Error as err:\n",
    "        if err.errno == errorcode.ER_TABLE_EXISTS_ERROR:\n",
    "            print(\"\"\"Tabela '{}' já existe\"\"\".format(table))\n",
    "        else:\n",
    "            print(err.msg)\n",
    "    else:\n",
    "        print(\"Tudo certo, champs :D\")\n"
   ]
  }
 ],
 "metadata": {
  "kernelspec": {
   "display_name": "Python 3 (ipykernel)",
   "language": "python",
   "name": "python3"
  },
  "language_info": {
   "codemirror_mode": {
    "name": "ipython",
    "version": 3
   },
   "file_extension": ".py",
   "mimetype": "text/x-python",
   "name": "python",
   "nbconvert_exporter": "python",
   "pygments_lexer": "ipython3",
   "version": "3.10.1"
  }
 },
 "nbformat": 4,
 "nbformat_minor": 5
}
